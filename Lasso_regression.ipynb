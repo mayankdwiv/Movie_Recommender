{
  "nbformat": 4,
  "nbformat_minor": 0,
  "metadata": {
    "colab": {
      "provenance": [],
      "authorship_tag": "ABX9TyMcbzZOe0kKptQzJIH+bfQa",
      "include_colab_link": true
    },
    "kernelspec": {
      "name": "python3",
      "display_name": "Python 3"
    },
    "language_info": {
      "name": "python"
    }
  },
  "cells": [
    {
      "cell_type": "markdown",
      "metadata": {
        "id": "view-in-github",
        "colab_type": "text"
      },
      "source": [
        "<a href=\"https://colab.research.google.com/github/mayankdwiv/Movie_Recommender/blob/main/Lasso_regression.ipynb\" target=\"_parent\"><img src=\"https://colab.research.google.com/assets/colab-badge.svg\" alt=\"Open In Colab\"/></a>"
      ]
    },
    {
      "cell_type": "code",
      "execution_count": 1,
      "metadata": {
        "id": "72InE--OWPtr"
      },
      "outputs": [],
      "source": [
        "import numpy as np\n"
      ]
    },
    {
      "cell_type": "markdown",
      "source": [
        "# creating class for lasso regression"
      ],
      "metadata": {
        "id": "f08l8gunXsCz"
      }
    },
    {
      "cell_type": "code",
      "source": [
        "class LassoRegression():\n",
        "  def __init__(self,learning_rate,no_of_iterations,lamda_parameter):\n",
        "    self.learninig_rate=learning_rate\n",
        "    self.no_of_iterations=no_of_iterations\n",
        "    self.lamda_parameter=lamda_parameter\n",
        "\n",
        "\n",
        "\n",
        "  def fit(self,X,Y):\n",
        "    self.m,self.n=X.shape\n",
        "    self.w=np.zeros(self.n)\n",
        "    self.b=0\n",
        "    self.X=X\n",
        "    self.Y=Y\n",
        "\n",
        "    for i in range(self.no_of_iterations):\n",
        "      self.update_weight()\n",
        "\n",
        "\n",
        "\n",
        "\n",
        "  def update_weight(self):\n",
        "    Y_prediction=self.predict(self.X)\n",
        "    dw=np.zeros(self.n)\n",
        "    for i in range(self.n):\n",
        "      if self.w[i]>0:\n",
        "        dw[i]=(-(2*(X[:,i]).dot(self.Y- Y_prediction)) + self.lambda_parameter)/self.m\n",
        "      else:\n",
        "        dw[i]=(-(2*(X[:,i]).dot(self.Y- Y_prediction)) - self.lambda_parameter)/self.m\n",
        "\n",
        "    db = - 2 * np.sum(self.Y - Y_prediction) / self.m\n",
        "    self.w=self.w - self.learninig_rate.dot(self.dw)\n",
        "    self.b=self.b-self.learning_rate.dot(db)\n",
        "\n",
        "  def predict(self,X,w):\n",
        "    return X.dot(w)  + self.b\n",
        "\n",
        "\n",
        "\n",
        ""
      ],
      "metadata": {
        "id": "YTf6ezPWXzxu"
      },
      "execution_count": null,
      "outputs": []
    }
  ]
}